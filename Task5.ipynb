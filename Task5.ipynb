{
  "nbformat": 4,
  "nbformat_minor": 0,
  "metadata": {
    "colab": {
      "name": "Task5.ipynb",
      "provenance": [],
      "collapsed_sections": []
    },
    "kernelspec": {
      "name": "python3",
      "display_name": "Python 3"
    }
  },
  "cells": [
    {
      "cell_type": "code",
      "metadata": {
        "colab": {
          "base_uri": "https://localhost:8080/"
        },
        "id": "Vk9F28kkFXiX",
        "outputId": "591a2385-2d22-4943-9c98-c6f89fb359cc"
      },
      "source": [
        "#Exercise 1\r\n",
        "word = input()\r\n",
        "index = len(word)\r\n",
        "while index > 0:\r\n",
        "  print(word[index-1])\r\n",
        "  index = index - 1"
      ],
      "execution_count": null,
      "outputs": [
        {
          "output_type": "stream",
          "text": [
            "banana\n",
            "a\n",
            "n\n",
            "a\n",
            "n\n",
            "a\n",
            "b\n"
          ],
          "name": "stdout"
        }
      ]
    },
    {
      "cell_type": "code",
      "metadata": {
        "colab": {
          "base_uri": "https://localhost:8080/"
        },
        "id": "-CKgeXrFgf-m",
        "outputId": "b0320711-758e-4c4e-bd78-7dccbfdfc115"
      },
      "source": [
        "#Exercise 2\r\n",
        "fruit = input()\r\n",
        "print(fruit[:])"
      ],
      "execution_count": null,
      "outputs": [
        {
          "output_type": "stream",
          "text": [
            "Russia\n",
            "Russia\n"
          ],
          "name": "stdout"
        }
      ]
    },
    {
      "cell_type": "markdown",
      "metadata": {
        "id": "-E2bLQs4gibO"
      },
      "source": [
        "Input: Russia  \r\n",
        "Output: Russia\r\n",
        "\r\n",
        "fruit[:] means from the beginning until the end, the whole string."
      ]
    },
    {
      "cell_type": "code",
      "metadata": {
        "colab": {
          "base_uri": "https://localhost:8080/"
        },
        "id": "ikSEl_4wgir3",
        "outputId": "d4e80b30-a08a-44e4-a8bf-37877bd4e38c"
      },
      "source": [
        "#Exercise 3\r\n",
        "#string = input('Enter the string: ')\r\n",
        "#letter = input('Enter the letter: ')\r\n",
        "def counter(string, letter):\r\n",
        "  count = 0\r\n",
        "  for a in string:\r\n",
        "    if a == letter:\r\n",
        "      count = count + 1\r\n",
        "  return count\r\n",
        "\r\n",
        "#counter(string, letter)\r\n",
        "\r\n",
        "n = counter('banana','a')\r\n",
        "print(n)"
      ],
      "execution_count": null,
      "outputs": [
        {
          "output_type": "stream",
          "text": [
            "3\n"
          ],
          "name": "stdout"
        }
      ]
    },
    {
      "cell_type": "code",
      "metadata": {
        "colab": {
          "base_uri": "https://localhost:8080/"
        },
        "id": "xpAjRDWuhsiw",
        "outputId": "fbdc231e-7a9b-42c6-b677-62294fccc490"
      },
      "source": [
        "#Exercise 4\r\n",
        "word = 'banana'\r\n",
        "print(word.count('a'))"
      ],
      "execution_count": null,
      "outputs": [
        {
          "output_type": "stream",
          "text": [
            "3\n"
          ],
          "name": "stdout"
        }
      ]
    },
    {
      "cell_type": "code",
      "metadata": {
        "colab": {
          "base_uri": "https://localhost:8080/"
        },
        "id": "T1KtTnkVi3-K",
        "outputId": "404cba92-ec7f-4da2-ef74-49c50531d45b"
      },
      "source": [
        "#Exercise 5\r\n",
        "str = 'X-DSPAM-Confidence:0.8475'\r\n",
        "i = str.find(':'[:])\r\n",
        "number = float(str[i+1:])\r\n",
        "print(number)"
      ],
      "execution_count": null,
      "outputs": [
        {
          "output_type": "stream",
          "text": [
            "0.8475\n"
          ],
          "name": "stdout"
        }
      ]
    },
    {
      "cell_type": "code",
      "metadata": {
        "colab": {
          "base_uri": "https://localhost:8080/"
        },
        "id": "wMA7nq5_jd6T",
        "outputId": "2656c6eb-81d6-4394-9ee7-8dca4d293a97"
      },
      "source": [
        "#Exercise 6\r\n",
        "str = '      My string is a text      '\r\n",
        "str2 = str.strip()\r\n",
        "print(str2)\r\n",
        "print(str2.replace('a text', 'a music'))"
      ],
      "execution_count": null,
      "outputs": [
        {
          "output_type": "stream",
          "text": [
            "My string is a text\n",
            "My string is a music\n"
          ],
          "name": "stdout"
        }
      ]
    },
    {
      "cell_type": "markdown",
      "metadata": {
        "id": "aa3Lq_21gcUa"
      },
      "source": [
        ""
      ]
    }
  ]
}