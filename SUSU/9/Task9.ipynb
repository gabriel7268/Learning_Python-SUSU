{
  "nbformat": 4,
  "nbformat_minor": 0,
  "metadata": {
    "colab": {
      "name": "Task9.ipynb",
      "provenance": []
    },
    "kernelspec": {
      "name": "python3",
      "display_name": "Python 3"
    }
  },
  "cells": [
    {
      "cell_type": "code",
      "metadata": {
        "id": "w5ueSiUPUsDG",
        "colab": {
          "base_uri": "https://localhost:8080/"
        },
        "outputId": "48a1dc75-01de-41b9-aa47-c4894d3933cd"
      },
      "source": [
        "#Exercise 1\r\n",
        "name = input (\"Enter a file name:\")\r\n",
        "fname = open(name)\r\n",
        "\r\n",
        "edict = dict()\r\n",
        "for line in fname:\r\n",
        "  words = line.split()\r\n",
        "  if len(words)<2 or words[0]!=\"From\":   continue\r\n",
        "  else:\r\n",
        "    if words[1] not in edict:\r\n",
        "      edict[words[1]] = 1\r\n",
        "    else:\r\n",
        "      edict[words[1]]+=1\r\n",
        "\r\n",
        "#print(edict)\r\n",
        "\r\n",
        "listt = list()\r\n",
        "for key, val in list(edict.items()):\r\n",
        "  listt.append((val, key))\r\n",
        "\r\n",
        "listt.sort(reverse=True)\r\n",
        "for key, val in listt[:1]:\r\n",
        "  print(val, key)\r\n",
        "\r\n",
        "#print(listt)\r\n",
        "\r\n",
        "\r\n",
        "\r\n",
        "\r\n",
        "#Exercise 2\r\n",
        "name = input (\"Enter file name:\")\r\n",
        "fname = open(name)\r\n",
        "\r\n",
        "edict = dict()\r\n",
        "for line in fname:\r\n",
        "  words = line.split()\r\n",
        "  if len(words)<2 or words[0]!=\"From\":    continue\r\n",
        "  else:\r\n",
        "    col_position = words[5].find(':')\r\n",
        "    hour = words[5][:col_position]\r\n",
        "    if hour not in edict:\r\n",
        "      edict[hour] = 1\r\n",
        "    else:  edict[hour] +=1\r\n",
        "\r\n",
        "listt = list()\r\n",
        "for key, val in list(edict.items()):\r\n",
        "  listt.append((key, val))\r\n",
        "\r\n",
        "listt.sort()\r\n",
        "for key, val in listt:\r\n",
        "  print(key, val)\r\n",
        "\r\n",
        "\r\n",
        "\r\n",
        "\r\n",
        "#Exercise 3\r\n",
        "import string\r\n",
        "\r\n",
        "name = input(\"Enter a file name:\")\r\n",
        "fname = open(name)\r\n",
        "edict = dict()\r\n",
        "for line in fname:\r\n",
        "  line = line.translate(str.maketrans('', '', string.punctuation))\r\n",
        "  line = line.lower()\r\n",
        "  words = line.split()\r\n",
        "  for word in words:\r\n",
        "    for letter in word:\r\n",
        "      if letter not in edict:\r\n",
        "        edict[letter] = 1\r\n",
        "      else:   edict[letter] += 1 \r\n",
        "\r\n",
        "listt = list()\r\n",
        "for key, val in list(edict.items()):\r\n",
        "    listt.append((val, key))\r\n",
        "listt.sort(reverse=True)\r\n",
        "for key, val in listt[:5]:\r\n",
        "  print(key, val)\r\n"
      ],
      "execution_count": 53,
      "outputs": [
        {
          "output_type": "stream",
          "text": [
            "Enter a file name:mbox-short.txt\n",
            "5436 e\n",
            "5223 a\n",
            "4494 i\n",
            "4174 o\n",
            "4064 r\n"
          ],
          "name": "stdout"
        }
      ]
    }
  ]
}