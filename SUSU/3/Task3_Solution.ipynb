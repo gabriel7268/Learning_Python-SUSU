{
  "nbformat": 4,
  "nbformat_minor": 0,
  "metadata": {
    "colab": {
      "name": "Untitled",
      "provenance": [],
      "collapsed_sections": []
    },
    "kernelspec": {
      "name": "python3",
      "display_name": "Python 3"
    }
  },
  "cells": [
    {
      "cell_type": "code",
      "metadata": {
        "id": "G2BDt8nNwI1i"
      },
      "source": [
        "#Exercise 1\n",
        "import random\n",
        "\n",
        "for i in range(10):\n",
        "  x = random.random()\n",
        "  print(x)"
      ],
      "execution_count": null,
      "outputs": []
    },
    {
      "cell_type": "markdown",
      "metadata": {
        "id": "kuxsQqqEwdvZ"
      },
      "source": [
        "**Output1:**  \n",
        "0.2578533863248126  \n",
        "0.5884523307089473  \n",
        "0.13320496731110532  \n",
        "0.006727072786674393  \n",
        "0.4084126467775634  \n",
        "0.535170973872351  \n",
        "0.36118507543886325   \n",
        "0.17589408230909587  \n",
        "0.4492692744936596  \n",
        "0.389863501780226  \n",
        "\n",
        "**Output 2:**  \n",
        "0.9894207189823214  \n",
        "0.9182306214071311  \n",
        "0.25041118608308477  \n",
        "0.8748433883519142  \n",
        "0.40921974682083107  \n",
        "0.02506243146675513  \n",
        "0.7212565692677643  \n",
        "0.6501832304869123  \n",
        "0.9516546526889499    \n",
        "0.06493383649269524"
      ]
    },
    {
      "cell_type": "code",
      "metadata": {
        "id": "l6IZsi_Rw5TV"
      },
      "source": [
        "#Exercise 2\n",
        "repeat_lyrics()\n",
        "\n",
        "def print_lyrics():\n",
        "    print(\"I'm a lumberjack, and I'm okay.\")\n",
        "    print('I sleep all night and I work all day.')\n",
        "\n",
        "\n",
        "def repeat_lyrics():\n",
        "    print_lyrics()\n",
        "    print_lyrics()"
      ],
      "execution_count": null,
      "outputs": []
    },
    {
      "cell_type": "markdown",
      "metadata": {
        "id": "kbHAGVPTyX6-"
      },
      "source": [
        "---------------------------------------------------------------------------\n",
        "NameError                                 Traceback (most recent call last)   \n",
        "<'ipython-input-8-947c148a7d9b'> in <'module'>()   \n",
        "      1 #Exercise 2   \n",
        "----> 2 repeat_lyrics()   \n",
        "      3    \n",
        "      4 def print_lyrics():   \n",
        "      5     print(\"I'm a lumberjack, and I'm okay.\")  \n",
        "\n",
        "NameError: name 'repeat_lyrics' is not defined"
      ]
    },
    {
      "cell_type": "code",
      "metadata": {
        "id": "9RiCtdgHyaBR"
      },
      "source": [
        "#Exercise 3\n",
        "def repeat_lyrics():\n",
        "    print_lyrics()\n",
        "    print_lyrics()\n",
        "\n",
        "def print_lyrics():\n",
        "    print(\"I'm a lumberjack, and I'm okay.\")\n",
        "    print('I sleep all night and I work all day.')\n",
        "\n",
        "repeat_lyrics()"
      ],
      "execution_count": null,
      "outputs": []
    },
    {
      "cell_type": "markdown",
      "metadata": {
        "id": "68RDLoCezY0Z"
      },
      "source": [
        "I'm a lumberjack, and I'm okay.  \n",
        "I sleep all night and I work all day.             \n",
        "I'm a lumberjack, and I'm okay.  \n",
        "I sleep all night and I work all day."
      ]
    },
    {
      "cell_type": "markdown",
      "metadata": {
        "id": "vlS4EH8O0-an"
      },
      "source": [
        "**Exercise 4: What is the purpose of the \"def\" keyword in Python?**  \n",
        "b) It indicates the start of a function"
      ]
    },
    {
      "cell_type": "markdown",
      "metadata": {
        "id": "kwqG0Eox1j5U"
      },
      "source": [
        "**Exercise 5: What will the following Python program print out?**  \n",
        "d) ABC Zap ABC"
      ]
    },
    {
      "cell_type": "code",
      "metadata": {
        "id": "Tz7smbCf2Udf"
      },
      "source": [
        "#Exercise 6\n",
        "h = float(input('Enter Hours: '))\n",
        "r = float(input('Enter Rate: '))\n",
        "def computepay(hour, rate):\n",
        "  if (hour>40):\n",
        "    s = (40*rate)+(hour-40)*(rate*1.5)\n",
        "  else:\n",
        "    s = (hour*rate)\n",
        "  print('Pay:', s)\n",
        "  \n",
        "computepay(h,r)"
      ],
      "execution_count": null,
      "outputs": []
    },
    {
      "cell_type": "code",
      "metadata": {
        "id": "G1yw-aQi4AQn"
      },
      "source": [
        "#Exercise 7\n",
        "def computegrade():\n",
        "  for i in range(5):\n",
        "    ss = input(\"Enter score: \")\n",
        "    try:\n",
        "      s = float(ss)\n",
        "      if (s>0 and s<1):\n",
        "        if (s>=0.9):\n",
        "          print('A')\n",
        "        elif (s>=0.8):\n",
        "          print('B')\n",
        "        elif (s>=0.7):\n",
        "          print('C')\n",
        "        elif (s>=0.6):\n",
        "          print('D')\n",
        "        elif (s<0.6):\n",
        "          print('F')\n",
        "        else:\n",
        "          print('Bad score')\n",
        "      else:\n",
        "        print('Bad score')\n",
        "    except:\n",
        "      print('Bad score')\n",
        "\n",
        "computegrade()"
      ],
      "execution_count": null,
      "outputs": []
    }
  ]
}