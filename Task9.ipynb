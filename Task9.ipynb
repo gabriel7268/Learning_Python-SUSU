{
  "nbformat": 4,
  "nbformat_minor": 0,
  "metadata": {
    "colab": {
      "name": "Task9.ipynb",
      "provenance": [],
      "include_colab_link": true
    },
    "kernelspec": {
      "name": "python3",
      "display_name": "Python 3"
    }
  },
  "cells": [
    {
      "cell_type": "markdown",
      "metadata": {
        "id": "view-in-github",
        "colab_type": "text"
      },
      "source": [
        "<a href=\"https://colab.research.google.com/github/gabriel7268/Learning_Python-SUSU/blob/main/Task9.ipynb\" target=\"_parent\"><img src=\"https://colab.research.google.com/assets/colab-badge.svg\" alt=\"Open In Colab\"/></a>"
      ]
    },
    {
      "cell_type": "code",
      "metadata": {
        "id": "w5ueSiUPUsDG",
        "colab": {
          "base_uri": "https://localhost:8080/"
        },
        "outputId": "a642fe80-ca44-45a7-d5ca-f49ca0adfcdc"
      },
      "source": [
        "#Exercise 1\n",
        "name = input (\"Enter a file name:\")\n",
        "fname = open(name)\n",
        "\n",
        "edict = dict()\n",
        "for line in fname:\n",
        "  words = line.split()\n",
        "  if len(words)<2 or words[0]!=\"From\":   continue\n",
        "  else:\n",
        "    if words[1] not in edict:\n",
        "      edict[words[1]] = 1\n",
        "    else:\n",
        "      edict[words[1]]+=1\n",
        "\n",
        "#print(edict)\n",
        "\n",
        "listt = list()\n",
        "for key, val in list(edict.items()):\n",
        "  listt.append((val, key))\n",
        "\n",
        "listt.sort(reverse=True)\n",
        "for key, val in listt[:1]:\n",
        "  print(val, key)\n",
        "\n",
        "#print(listt)\n",
        "\n",
        "\n",
        "\n",
        "\n",
        "#Exercise 2\n",
        "name = input (\"Enter file name:\")\n",
        "fname = open(name)\n",
        "\n",
        "edict = dict()\n",
        "for line in fname:\n",
        "  words = line.split()\n",
        "  if len(words)<2 or words[0]!=\"From\":    continue\n",
        "  else:\n",
        "    col_position = words[5].find(':')\n",
        "    hour = words[5][:col_position]\n",
        "    if hour not in edict:\n",
        "      edict[hour] = 1\n",
        "    else:  edict[hour] +=1\n",
        "\n",
        "listt = list()\n",
        "for key, val in list(edict.items()):\n",
        "  listt.append((key, val))\n",
        "\n",
        "listt.sort()\n",
        "for key, val in listt:\n",
        "  print(key, val)\n",
        "\n",
        "\n",
        "\n",
        "\n",
        "#Exercise 3\n",
        "import string\n",
        "\n",
        "name = input(\"Enter a file name:\")\n",
        "fname = open(name)\n",
        "edict = dict()\n",
        "for line in fname:\n",
        "  line = line.translate(str.maketrans('', '', string.punctuation))\n",
        "  line = line.lower()\n",
        "  words = line.split()\n",
        "  for word in words:\n",
        "    for letter in word:\n",
        "      if letter not in edict:\n",
        "        edict[letter] = 1\n",
        "      else:   edict[letter] += 1 \n",
        "\n",
        "listt = list()\n",
        "for key, val in list(edict.items()):\n",
        "    listt.append((val, key))\n",
        "listt.sort(reverse=True)\n",
        "for key, val in listt[:5]:\n",
        "  print(key, val)\n"
      ],
      "execution_count": null,
      "outputs": [
        {
          "output_type": "stream",
          "text": [
            "Enter a file name:mbox-short.txt\n",
            "cwen@iupui.edu 5\n",
            "Enter file name:mbox-short.txt\n",
            "04 3\n",
            "06 1\n",
            "07 1\n",
            "09 2\n",
            "10 3\n",
            "11 6\n",
            "14 1\n",
            "15 2\n",
            "16 4\n",
            "17 2\n",
            "18 1\n",
            "19 1\n",
            "Enter a file name:mbox-short.txt\n",
            "5436 e\n",
            "5223 a\n",
            "4494 i\n",
            "4174 o\n",
            "4064 r\n"
          ],
          "name": "stdout"
        }
      ]
    }
  ]
}