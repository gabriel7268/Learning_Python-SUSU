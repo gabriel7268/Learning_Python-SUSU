{
  "nbformat": 4,
  "nbformat_minor": 0,
  "metadata": {
    "colab": {
      "name": "Task1.ipynb",
      "provenance": []
    },
    "kernelspec": {
      "name": "python3",
      "display_name": "Python 3"
    }
  },
  "cells": [
    {
      "cell_type": "code",
      "metadata": {
        "id": "63kGkS_XRxMJ",
        "colab": {
          "base_uri": "https://localhost:8080/"
        },
        "outputId": "bdf1fa29-22ea-4f0f-b2dc-472022484877"
      },
      "source": [
        "#Exercise 1\n",
        "print(5)\n",
        "x=5\n",
        "print(x+1)\n",
        "\n",
        "\n",
        "#Exercise 2\n",
        "\n",
        "name = input('Enter your name: ')\n",
        "print('Hello', name) \n",
        "\n",
        "\n",
        "#Exercise 3\n",
        "\n",
        "hours = float(input('Enter hours: '))\n",
        "rate = float(input('Enter rate: '))\n",
        "print('Pay:', round(hours*rate, 2))\n",
        "\n",
        "\n",
        "#Exercise 4\n",
        "\n",
        "width = 17\n",
        "height = 12.0\n",
        "print(width/2)\n",
        "print(width/2.0)\n",
        "print(height/3)\n",
        "print(1+2*5)\n",
        "\n",
        "\n",
        "#Exercise 5\n",
        "\n",
        "temp = float(input('Enter Celsius temperature: '))\n",
        "print('Temperature is equal to', (temp*9)/5+32, 'degrees Fahrenheit')"
      ],
      "execution_count": 4,
      "outputs": [
        {
          "output_type": "stream",
          "text": [
            "5\n",
            "6\n",
            "Enter your name: Gabriel\n",
            "Hello Gabriel\n",
            "Enter hours: 4\n",
            "Enter rate: 3\n",
            "Pay: 12.0\n",
            "8.5\n",
            "8.5\n",
            "4.0\n",
            "11\n",
            "Enter Celsius temperature: 26\n",
            "Temperature is equal to 78.8 degrees Fahrenheit\n"
          ],
          "name": "stdout"
        }
      ]
    }
  ]
}