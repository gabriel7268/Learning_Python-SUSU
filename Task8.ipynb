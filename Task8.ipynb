{
  "nbformat": 4,
  "nbformat_minor": 0,
  "metadata": {
    "colab": {
      "name": "Task8.ipynb",
      "provenance": [],
      "authorship_tag": "ABX9TyO5JlwmX06RU+w40Xn2BhN1",
      "include_colab_link": true
    },
    "kernelspec": {
      "name": "python3",
      "display_name": "Python 3"
    }
  },
  "cells": [
    {
      "cell_type": "markdown",
      "metadata": {
        "id": "view-in-github",
        "colab_type": "text"
      },
      "source": [
        "<a href=\"https://colab.research.google.com/github/gabriel7268/Learning_Python-SUSU/blob/main/Task8.ipynb\" target=\"_parent\"><img src=\"https://colab.research.google.com/assets/colab-badge.svg\" alt=\"Open In Colab\"/></a>"
      ]
    },
    {
      "cell_type": "code",
      "metadata": {
        "colab": {
          "base_uri": "https://localhost:8080/"
        },
        "id": "VsNw2wxTKiT1",
        "outputId": "b879cc28-b8c7-4edf-f75c-bd28805a20ad"
      },
      "source": [
        "#Exercise 1\n",
        "edict = dict()\n",
        "j = 0\n",
        "fhand = open('words.txt')\n",
        "reader = fhand.read()\n",
        "listt = reader.split()\n",
        "for i in range(len(listt)):\n",
        "  edict[listt[i]] = j\n",
        "  j+=1\n",
        "print(edict)\n",
        "\n",
        "word = input('Enter a word: ')\n",
        "print(word in edict)\n",
        "\n",
        "\n",
        "\n",
        "\n",
        "#Exercise 2\n",
        "name = input('Enter a file name: ')\n",
        "fhand = open(name)\n",
        "edict = dict()\n",
        "for line in fhand:\n",
        "  words = line.split()\n",
        "  if len(words) == 0 or words[0] != 'From': continue\n",
        "  if words[2] not in edict:  \n",
        "    edict[words[2]] = 1\n",
        "  else: edict[words[2]] = edict[words[2]] + 1\n",
        "      \n",
        "\n",
        "print(edict)\n",
        "\n",
        "\n",
        "\n",
        "\n",
        "\n",
        "#Exercise 3\n",
        "name = input('Enter file name: ')\n",
        "fhand = open(name)\n",
        "edict = dict()\n",
        "for line in fhand:\n",
        "  words = line.split()\n",
        "  if len(words) == 0 or words[0] != 'From': continue\n",
        "  if words[1] not in edict:  \n",
        "    edict[words[1]] = 1\n",
        "  else: edict[words[1]] = edict[words[1]] + 1\n",
        "      \n",
        "print(edict)\n",
        "\n",
        "\n",
        "\n",
        "\n",
        "\n",
        "#Exercise 4\n",
        "name = input('Enter file name: ')\n",
        "fhand = open(name)\n",
        "edict = dict()\n",
        "base = 0\n",
        "for line in fhand:\n",
        "  words = line.split()\n",
        "  if len(words) == 0 or words[0] != 'From': continue\n",
        "  if words[1] not in edict:  \n",
        "    edict[words[1]] = 1\n",
        "  else: edict[words[1]] = edict[words[1]] + 1\n",
        "#for key in range(len(edict)):\n",
        "for key in edict:\n",
        "  if edict[key] > base:\n",
        "    base = edict[key]     \n",
        "    ind = key\n",
        "print(ind, edict[ind])\n",
        "\n",
        "\n",
        "\n",
        "\n",
        "\n",
        "#Exercise 5\n",
        "name = input('Enter file name: ')\n",
        "fhand = open(name)\n",
        "edict = dict()\n",
        "for line in fhand:\n",
        "  words = line.split()\n",
        "  if len(words) == 0 or words[0] != 'From': continue\n",
        "  word = words[1]\n",
        "  atpos = word.find('@')\n",
        "  domain = word[atpos+1:]\n",
        "  if domain not in edict:  \n",
        "    edict[domain] = 1\n",
        "  else: edict[domain] = edict[domain] + 1\n",
        "      \n",
        "print(edict)"
      ],
      "execution_count": null,
      "outputs": [
        {
          "output_type": "stream",
          "text": [
            "Enter file name: mbox-short.txt\n",
            "{'uct.ac.za': 6, 'media.berkeley.edu': 4, 'umich.edu': 7, 'iupui.edu': 8, 'caret.cam.ac.uk': 1, 'gmail.com': 1}\n"
          ],
          "name": "stdout"
        }
      ]
    },
    {
      "cell_type": "code",
      "metadata": {
        "id": "dInaiPX8bYWB",
        "colab": {
          "base_uri": "https://localhost:8080/"
        },
        "outputId": "63a9abee-349c-41ce-9516-7d4f84b3dbed"
      },
      "source": [
        "CountryCodeDict = {\"India\": 91, \"UK\" : 44 , \"USA\" : 1}\n",
        "\n",
        "CountryCodeDict[\"Spain\"]= 34\n",
        "\n",
        "print(CountryCodeDict)"
      ],
      "execution_count": null,
      "outputs": [
        {
          "output_type": "stream",
          "text": [
            "{'India': 91, 'UK': 44, 'USA': 1, 'Spain': 34}\n"
          ],
          "name": "stdout"
        }
      ]
    }
  ]
}