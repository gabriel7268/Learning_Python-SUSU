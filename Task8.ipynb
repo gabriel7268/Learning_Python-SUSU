{
  "nbformat": 4,
  "nbformat_minor": 0,
  "metadata": {
    "colab": {
      "name": "Task8.ipynb",
      "provenance": []
    },
    "kernelspec": {
      "name": "python3",
      "display_name": "Python 3"
    }
  },
  "cells": [
    {
      "cell_type": "code",
      "metadata": {
        "colab": {
          "base_uri": "https://localhost:8080/"
        },
        "id": "VsNw2wxTKiT1",
        "outputId": "b879cc28-b8c7-4edf-f75c-bd28805a20ad"
      },
      "source": [
        "#Exercise 1\r\n",
        "edict = dict()\r\n",
        "j = 0\r\n",
        "fhand = open('words.txt')\r\n",
        "reader = fhand.read()\r\n",
        "listt = reader.split()\r\n",
        "for i in range(len(listt)):\r\n",
        "  edict[listt[i]] = j\r\n",
        "  j+=1\r\n",
        "print(edict)\r\n",
        "\r\n",
        "word = input('Enter a word: ')\r\n",
        "print(word in edict)\r\n",
        "\r\n",
        "\r\n",
        "\r\n",
        "\r\n",
        "#Exercise 2\r\n",
        "name = input('Enter a file name: ')\r\n",
        "fhand = open(name)\r\n",
        "edict = dict()\r\n",
        "for line in fhand:\r\n",
        "  words = line.split()\r\n",
        "  if len(words) == 0 or words[0] != 'From': continue\r\n",
        "  if words[2] not in edict:  \r\n",
        "    edict[words[2]] = 1\r\n",
        "  else: edict[words[2]] = edict[words[2]] + 1\r\n",
        "      \r\n",
        "\r\n",
        "print(edict)\r\n",
        "\r\n",
        "\r\n",
        "\r\n",
        "\r\n",
        "\r\n",
        "#Exercise 3\r\n",
        "name = input('Enter file name: ')\r\n",
        "fhand = open(name)\r\n",
        "edict = dict()\r\n",
        "for line in fhand:\r\n",
        "  words = line.split()\r\n",
        "  if len(words) == 0 or words[0] != 'From': continue\r\n",
        "  if words[1] not in edict:  \r\n",
        "    edict[words[1]] = 1\r\n",
        "  else: edict[words[1]] = edict[words[1]] + 1\r\n",
        "      \r\n",
        "print(edict)\r\n",
        "\r\n",
        "\r\n",
        "\r\n",
        "\r\n",
        "\r\n",
        "#Exercise 4\r\n",
        "name = input('Enter file name: ')\r\n",
        "fhand = open(name)\r\n",
        "edict = dict()\r\n",
        "base = 0\r\n",
        "for line in fhand:\r\n",
        "  words = line.split()\r\n",
        "  if len(words) == 0 or words[0] != 'From': continue\r\n",
        "  if words[1] not in edict:  \r\n",
        "    edict[words[1]] = 1\r\n",
        "  else: edict[words[1]] = edict[words[1]] + 1\r\n",
        "#for key in range(len(edict)):\r\n",
        "for key in edict:\r\n",
        "  if edict[key] > base:\r\n",
        "    base = edict[key]     \r\n",
        "    ind = key\r\n",
        "print(ind, edict[ind])\r\n",
        "\r\n",
        "\r\n",
        "\r\n",
        "\r\n",
        "\r\n",
        "#Exercise 5\r\n",
        "name = input('Enter file name: ')\r\n",
        "fhand = open(name)\r\n",
        "edict = dict()\r\n",
        "for line in fhand:\r\n",
        "  words = line.split()\r\n",
        "  if len(words) == 0 or words[0] != 'From': continue\r\n",
        "  word = words[1]\r\n",
        "  atpos = word.find('@')\r\n",
        "  domain = word[atpos+1:]\r\n",
        "  if domain not in edict:  \r\n",
        "    edict[domain] = 1\r\n",
        "  else: edict[domain] = edict[domain] + 1\r\n",
        "      \r\n",
        "print(edict)"
      ],
      "execution_count": 66,
      "outputs": [
        {
          "output_type": "stream",
          "text": [
            "Enter file name: mbox-short.txt\n",
            "{'uct.ac.za': 6, 'media.berkeley.edu': 4, 'umich.edu': 7, 'iupui.edu': 8, 'caret.cam.ac.uk': 1, 'gmail.com': 1}\n"
          ],
          "name": "stdout"
        }
      ]
    }
  ]
}