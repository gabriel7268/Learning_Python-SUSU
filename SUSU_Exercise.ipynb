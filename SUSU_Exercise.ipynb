{
  "nbformat": 4,
  "nbformat_minor": 0,
  "metadata": {
    "colab": {
      "name": "SUSU Exercise.ipynb",
      "provenance": [],
      "authorship_tag": "ABX9TyMvfxv1zF2mVYheN7JSFIXy",
      "include_colab_link": true
    },
    "kernelspec": {
      "name": "python3",
      "display_name": "Python 3"
    }
  },
  "cells": [
    {
      "cell_type": "markdown",
      "metadata": {
        "id": "view-in-github",
        "colab_type": "text"
      },
      "source": [
        "<a href=\"https://colab.research.google.com/github/gabriel7268/Learning_Python-SUSU/blob/main/SUSU_Exercise.ipynb\" target=\"_parent\"><img src=\"https://colab.research.google.com/assets/colab-badge.svg\" alt=\"Open In Colab\"/></a>"
      ]
    },
    {
      "cell_type": "code",
      "metadata": {
        "colab": {
          "base_uri": "https://localhost:8080/"
        },
        "id": "Vk9F28kkFXiX",
        "outputId": "591a2385-2d22-4943-9c98-c6f89fb359cc"
      },
      "source": [
        "#Exercise 1\n",
        "word = input()\n",
        "index = len(word)\n",
        "while index > 0:\n",
        "  print(word[index-1])\n",
        "  index = index - 1"
      ],
      "execution_count": null,
      "outputs": [
        {
          "output_type": "stream",
          "text": [
            "banana\n",
            "a\n",
            "n\n",
            "a\n",
            "n\n",
            "a\n",
            "b\n"
          ],
          "name": "stdout"
        }
      ]
    },
    {
      "cell_type": "code",
      "metadata": {
        "colab": {
          "base_uri": "https://localhost:8080/"
        },
        "id": "-CKgeXrFgf-m",
        "outputId": "b0320711-758e-4c4e-bd78-7dccbfdfc115"
      },
      "source": [
        "#Exercise 2\n",
        "fruit = input()\n",
        "print(fruit[:])"
      ],
      "execution_count": null,
      "outputs": [
        {
          "output_type": "stream",
          "text": [
            "Russia\n",
            "Russia\n"
          ],
          "name": "stdout"
        }
      ]
    },
    {
      "cell_type": "markdown",
      "metadata": {
        "id": "-E2bLQs4gibO"
      },
      "source": [
        "Input: Russia  \n",
        "Output: Russia\n",
        "\n",
        "fruit[:] means from the beginning until the end, the whole string."
      ]
    },
    {
      "cell_type": "code",
      "metadata": {
        "colab": {
          "base_uri": "https://localhost:8080/"
        },
        "id": "ikSEl_4wgir3",
        "outputId": "d4e80b30-a08a-44e4-a8bf-37877bd4e38c"
      },
      "source": [
        "#Exercise 3\n",
        "#string = input('Enter the string: ')\n",
        "#letter = input('Enter the letter: ')\n",
        "def counter(string, letter):\n",
        "  count = 0\n",
        "  for a in string:\n",
        "    if a == letter:\n",
        "      count = count + 1\n",
        "  return count\n",
        "\n",
        "#counter(string, letter)\n",
        "\n",
        "n = counter('banana','a')\n",
        "print(n)"
      ],
      "execution_count": null,
      "outputs": [
        {
          "output_type": "stream",
          "text": [
            "3\n"
          ],
          "name": "stdout"
        }
      ]
    },
    {
      "cell_type": "code",
      "metadata": {
        "colab": {
          "base_uri": "https://localhost:8080/"
        },
        "id": "xpAjRDWuhsiw",
        "outputId": "fbdc231e-7a9b-42c6-b677-62294fccc490"
      },
      "source": [
        "#Exercise 4\n",
        "word = 'banana'\n",
        "print(word.count('a'))"
      ],
      "execution_count": null,
      "outputs": [
        {
          "output_type": "stream",
          "text": [
            "3\n"
          ],
          "name": "stdout"
        }
      ]
    },
    {
      "cell_type": "code",
      "metadata": {
        "colab": {
          "base_uri": "https://localhost:8080/"
        },
        "id": "T1KtTnkVi3-K",
        "outputId": "404cba92-ec7f-4da2-ef74-49c50531d45b"
      },
      "source": [
        "#Exercise 5\n",
        "str = 'X-DSPAM-Confidence:0.8475'\n",
        "i = str.find(':'[:])\n",
        "number = float(str[i+1:])\n",
        "print(number)"
      ],
      "execution_count": null,
      "outputs": [
        {
          "output_type": "stream",
          "text": [
            "0.8475\n"
          ],
          "name": "stdout"
        }
      ]
    },
    {
      "cell_type": "code",
      "metadata": {
        "colab": {
          "base_uri": "https://localhost:8080/"
        },
        "id": "wMA7nq5_jd6T",
        "outputId": "2656c6eb-81d6-4394-9ee7-8dca4d293a97"
      },
      "source": [
        "#Exercise 6\n",
        "str = '      My string is a text      '\n",
        "str2 = str.strip()\n",
        "print(str2)\n",
        "print(str2.replace('a text', 'a music'))"
      ],
      "execution_count": null,
      "outputs": [
        {
          "output_type": "stream",
          "text": [
            "My string is a text\n",
            "My string is a music\n"
          ],
          "name": "stdout"
        }
      ]
    },
    {
      "cell_type": "markdown",
      "metadata": {
        "id": "aa3Lq_21gcUa"
      },
      "source": [
        ""
      ]
    }
  ]
}