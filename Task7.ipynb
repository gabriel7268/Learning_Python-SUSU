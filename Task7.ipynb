{
  "nbformat": 4,
  "nbformat_minor": 0,
  "metadata": {
    "colab": {
      "name": "Task7.ipynb",
      "provenance": [],
      "include_colab_link": true
    },
    "kernelspec": {
      "name": "python3",
      "display_name": "Python 3"
    }
  },
  "cells": [
    {
      "cell_type": "markdown",
      "metadata": {
        "id": "view-in-github",
        "colab_type": "text"
      },
      "source": [
        "<a href=\"https://colab.research.google.com/github/gabriel7268/Learning_Python-SUSU/blob/main/Task7.ipynb\" target=\"_parent\"><img src=\"https://colab.research.google.com/assets/colab-badge.svg\" alt=\"Open In Colab\"/></a>"
      ]
    },
    {
      "cell_type": "code",
      "metadata": {
        "colab": {
          "base_uri": "https://localhost:8080/"
        },
        "id": "f3kXlP0cxt6J",
        "outputId": "7053d2c2-082c-489c-a43e-06feacc42e86"
      },
      "source": [
        "#Exercise 1\n",
        "t = [1, 2, True, 3, \"Russia\", 28] \n",
        "def chop(t):\n",
        "  t.pop()\n",
        "  del t[0]\n",
        "  return None\n",
        "chop(t)\n",
        "print(t)\n",
        "\n",
        "k = [4, 5, False, 6, 7 , 8, \"Germany\", 15]\n",
        "def middle(k):\n",
        "  return k[1:len(k)-1]\n",
        "x = middle(k)\n",
        "print(x)\n",
        "\n",
        "\n",
        "\n",
        "\n",
        "\n",
        "#Exercise 2\n",
        "fhand = open('mbox-short.txt')\n",
        "count = 0\n",
        "for line in fhand:\n",
        "    words = line.split()\n",
        "    # print('Debug:', words)\n",
        "    if len(words) == 0 : continue\n",
        "    if words[0] != 'From' : continue\n",
        "    if len(words) > 2: print(words[2])\n",
        "\n",
        "\n",
        "\n",
        "\n",
        "\n",
        "\n",
        "\n",
        "#Exercise 3\n",
        "fhand = open('mbox-short.txt')\n",
        "count = 0\n",
        "for line in fhand:\n",
        "    words = line.split()\n",
        "    # print('Debug:', words)\n",
        "    if len(words) == 0 or words[0] != 'From': continue\n",
        "    print(words[2])\n",
        "\n",
        "\n",
        "\n",
        "\n",
        "\n",
        "\n",
        "\n",
        "#Exercise 4\n",
        "listt = list()\n",
        "file_name = input(\"Enter file: \")\n",
        "try:\n",
        "  fhand = open(file_name)\n",
        "except:\n",
        "  print(\"There is no such file with that name!\")\n",
        "for line in fhand:\n",
        "  words = line.split()\n",
        "  for i in range(len(words)):\n",
        "    if words[i] not in listt: listt.append(words[i])\n",
        "listt.sort()\n",
        "print(listt)\n",
        "\n",
        "\n",
        "\n",
        "\n",
        "\n",
        "\n",
        "\n",
        "\n",
        "#Exercise 5\n",
        "counter = 0\n",
        "file_name = input(\"Enter a file name: \")\n",
        "try:\n",
        "  fhand = open(file_name)\n",
        "except:\n",
        "  print(\"There is no such file with that name!\")\n",
        "for lines in fhand:\n",
        "  if not lines.startswith('From') : continue\n",
        "  words = lines.split()\n",
        "  counter += 1\n",
        "  print(words[1])\n",
        "  \n",
        "print(\"There were \",counter, \"lines in the file with From as the first word\")\n",
        "\n",
        "\n",
        "\n",
        "\n",
        "\n",
        "\n",
        "\n",
        "#Exercise 6\n",
        "list_numbers = list()\n",
        "while (True):\n",
        "  value = input('Enter a number: ')\n",
        "  if value == 'done': break\n",
        "  number = int(value)\n",
        "  list_numbers.append(number)\n",
        "print(\"Maximum: \", max(list_numbers))\n",
        "print(\"Minimum: \", min(list_numbers))"
      ],
      "execution_count": null,
      "outputs": [
        {
          "output_type": "stream",
          "text": [
            "Enter a number: 1\n",
            "Enter a number: 15\n",
            "Enter a number: -2\n",
            "Enter a number: 190\n",
            "Enter a number: done\n",
            "Maximum:  190\n",
            "Minimum:  -2\n"
          ],
          "name": "stdout"
        }
      ]
    }
  ]
}