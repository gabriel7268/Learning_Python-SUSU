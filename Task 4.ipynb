{
  "nbformat": 4,
  "nbformat_minor": 0,
  "metadata": {
    "colab": {
      "name": "Untitled5.ipynb",
      "provenance": []
    },
    "kernelspec": {
      "name": "python3",
      "display_name": "Python 3"
    }
  },
  "cells": [
    {
      "cell_type": "code",
      "metadata": {
        "id": "px3Bj2OBwoc7"
      },
      "source": [
        "#Exercise 1\r\n",
        "sum = 0\r\n",
        "count = 0\r\n",
        "while True:\r\n",
        "  imput = input('Enter a number: ')\r\n",
        "  try:\r\n",
        "    number = int(imput)\r\n",
        "    sum = sum + number\r\n",
        "    count = count + 1\r\n",
        "  except:\r\n",
        "    if imput == 'done':\r\n",
        "      break\r\n",
        "    else:\r\n",
        "      print('Invalid input')\r\n",
        "print(sum, count, sum/count)    "
      ],
      "execution_count": null,
      "outputs": []
    },
    {
      "cell_type": "code",
      "metadata": {
        "id": "6Nx8AUK50uqv"
      },
      "source": [
        "#Exercise 2\r\n",
        "max = 0\r\n",
        "min = 0\r\n",
        "while True:\r\n",
        "  imput = input('Enter a number: ')\r\n",
        "  try:\r\n",
        "    number = int(imput)\r\n",
        "    if number>max:\r\n",
        "      max = number\r\n",
        "    if number<min:\r\n",
        "      min = number\r\n",
        "  except:\r\n",
        "    if imput == 'done':\r\n",
        "      break\r\n",
        "    else:\r\n",
        "      print('Invalid input')\r\n",
        "print('Max: ', max,'\\nMin: ', min)   "
      ],
      "execution_count": null,
      "outputs": []
    }
  ]
}