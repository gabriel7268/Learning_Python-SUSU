{
  "nbformat": 4,
  "nbformat_minor": 0,
  "metadata": {
    "colab": {
      "name": "Task2.ipynb",
      "provenance": []
    },
    "kernelspec": {
      "name": "python3",
      "display_name": "Python 3"
    }
  },
  "cells": [
    {
      "cell_type": "code",
      "metadata": {
        "id": "qwzToYWK7nQH"
      },
      "source": [
        "# Exercise 1\n",
        "h = float(input('Enter Hours: '))\n",
        "r = float(input('Enter Rate: '))\n",
        "if (h>40):\n",
        "  s = (40*r)+(h-40)*(r*1.5)\n",
        "else:\n",
        "  s = (h*r)\n",
        "print('Pay:', s)\n",
        "\n",
        "#---------------------------------------------#\n",
        "\n",
        "# Exercise 2\n",
        "h = (input('Enter Hours: '))\n",
        "try:\n",
        "  hh = float(h)\n",
        "  try:\n",
        "    r = (input('Enter Rate: '))\n",
        "    try:\n",
        "      rr = float(r)\n",
        "      try:\n",
        "        s = (hh*rr)\n",
        "        print('Pay:', s)\n",
        "      except:\n",
        "        print('Error, please enter numeric input')\n",
        "    except:\n",
        "      print('Error, please enter numeric input')\n",
        "  except:\n",
        "    print('Error, please enter numeric input')\n",
        "except:\n",
        "  print('Error, please enter numeric input')\n",
        "\n",
        "#----------------------------------------------------#\n",
        "\n",
        "# Exercise 3\n",
        "i = 5\n",
        "while (i>0):\n",
        "  ss = input(\"Enter score: \")\n",
        "  try:\n",
        "    s = float(ss)\n",
        "    if (s>0 and s<1):\n",
        "      if (s>=0.9):\n",
        "        print('A')\n",
        "      elif (s>=0.8):\n",
        "        print('B')\n",
        "      elif (s>=0.7):\n",
        "        print('C')\n",
        "      elif (s>=0.6):\n",
        "        print('D')\n",
        "      elif (s<0.6):\n",
        "        print('F')\n",
        "      else:\n",
        "        print('Bad score')\n",
        "    else:\n",
        "      print('Bad score')\n",
        "  except:\n",
        "    print('Bad score')\n",
        "  i = i-1    "
      ],
      "execution_count": null,
      "outputs": []
    }
  ]
}