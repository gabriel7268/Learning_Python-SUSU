{
  "nbformat": 4,
  "nbformat_minor": 0,
  "metadata": {
    "colab": {
      "name": "Task2.ipynb",
      "provenance": [],
      "include_colab_link": true
    },
    "kernelspec": {
      "name": "python3",
      "display_name": "Python 3"
    }
  },
  "cells": [
    {
      "cell_type": "markdown",
      "metadata": {
        "id": "view-in-github",
        "colab_type": "text"
      },
      "source": [
        "<a href=\"https://colab.research.google.com/github/gabriel7268/Learning_Python-SUSU/blob/main/Task2.ipynb\" target=\"_parent\"><img src=\"https://colab.research.google.com/assets/colab-badge.svg\" alt=\"Open In Colab\"/></a>"
      ]
    },
    {
      "cell_type": "code",
      "metadata": {
        "id": "qwzToYWK7nQH",
        "colab": {
          "base_uri": "https://localhost:8080/"
        },
        "outputId": "605bf3a1-b184-4acb-b59c-b0889b35d88b"
      },
      "source": [
        "# Exercise 1\n",
        "h = float(input('Enter Hours: '))\n",
        "r = float(input('Enter Rate: '))\n",
        "if (h>40):\n",
        "  s = (40*r)+(h-40)*(r*1.5)\n",
        "else:\n",
        "  s = (h*r)\n",
        "print('Pay:', s)\n",
        "\n",
        "#---------------------------------------------#\n",
        "\n",
        "# Exercise 2\n",
        "h = (input('Enter Hours: '))\n",
        "try:\n",
        "  hh = float(h)\n",
        "  try:\n",
        "    r = (input('Enter Rate: '))\n",
        "    try:\n",
        "      rr = float(r)\n",
        "      try:\n",
        "        s = (hh*rr)\n",
        "        print('Pay:', s)\n",
        "      except:\n",
        "        print('Error, please enter numeric input')\n",
        "    except:\n",
        "      print('Error, please enter numeric input')\n",
        "  except:\n",
        "    print('Error, please enter numeric input')\n",
        "except:\n",
        "  print('Error, please enter numeric input')\n",
        "\n",
        "#----------------------------------------------------#\n",
        "\n",
        "# Exercise 3\n",
        "i = 5\n",
        "while (i>0):\n",
        "  ss = input(\"Enter score: \")\n",
        "  try:\n",
        "    s = float(ss)\n",
        "    if (s>0 and s<1):\n",
        "      if (s>=0.9):\n",
        "        print('A')\n",
        "      elif (s>=0.8):\n",
        "        print('B')\n",
        "      elif (s>=0.7):\n",
        "        print('C')\n",
        "      elif (s>=0.6):\n",
        "        print('D')\n",
        "      elif (s<0.6):\n",
        "        print('F')\n",
        "      else:\n",
        "        print('Bad score')\n",
        "    else:\n",
        "      print('Bad score')\n",
        "  except:\n",
        "    print('Bad score')\n",
        "  i = i-1    "
      ],
      "execution_count": null,
      "outputs": [
        {
          "output_type": "stream",
          "text": [
            "Enter Hours: 45\n",
            "Enter Rate: 10\n",
            "Pay: 475.0\n",
            "Enter Hours: 20\n",
            "Enter Rate: nine\n",
            "Error, please enter numeric input\n",
            "Enter score: forty\n",
            "Bad score\n",
            "Enter score: 0.95\n",
            "A\n",
            "Enter score: perfect\n",
            "Bad score\n",
            "Enter score: 10.0\n",
            "Bad score\n",
            "Enter score: 0.75\n",
            "C\n"
          ],
          "name": "stdout"
        }
      ]
    }
  ]
}